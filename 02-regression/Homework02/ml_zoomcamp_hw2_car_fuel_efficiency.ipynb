{
 "cells": [
  {
   "cell_type": "markdown",
   "id": "3c309416",
   "metadata": {},
   "source": [
    "\n",
    "# ML Zoomcamp — Homework 2: Car Fuel Efficiency (Regression)\n",
    "\n",
    "\n",
    "This notebook walks through:\n",
    "\n",
    "1. Dataset download & selection of required columns  \n",
    "2. EDA (tail check for the target)  \n",
    "3. Train/Val/Test split (60/20/20, seed=42 unless specified)  \n",
    "4. Linear Regression **without** regularization (missing value handling: `0` vs `mean`)  \n",
    "5. Linear Regression **with** regularization (`r ∈ [0, 0.01, 0.1, 1, 5, 10, 100]`)  \n",
    "6. Seed sensitivity study (std of RMSE across seeds 0–9)  \n",
    "7. Final model (seed=9, train+val, r=0.001) and test RMSE  \n",
    "\n",
    "At the end of each section, the notebook prints the exact answers required by the homework.\n"
   ]
  },
  {
   "cell_type": "markdown",
   "id": "290d41ca",
   "metadata": {},
   "source": [
    "\n",
    "## Setup\n",
    "\n",
    "We use `pandas` and `numpy` only (as in the lectures). If download from URL fails\n",
    "(e.g., offline), place `car_fuel_efficiency.csv` in the working directory and the code will load it.\n"
   ]
  },
  {
   "cell_type": "code",
   "execution_count": 1,
   "id": "57433374",
   "metadata": {},
   "outputs": [
    {
     "name": "stdout",
     "output_type": "stream",
     "text": [
      "Loaded dataset from URL. Shape: (9704, 11)\n"
     ]
    },
    {
     "data": {
      "text/html": [
       "<div>\n",
       "<style scoped>\n",
       "    .dataframe tbody tr th:only-of-type {\n",
       "        vertical-align: middle;\n",
       "    }\n",
       "\n",
       "    .dataframe tbody tr th {\n",
       "        vertical-align: top;\n",
       "    }\n",
       "\n",
       "    .dataframe thead th {\n",
       "        text-align: right;\n",
       "    }\n",
       "</style>\n",
       "<table border=\"1\" class=\"dataframe\">\n",
       "  <thead>\n",
       "    <tr style=\"text-align: right;\">\n",
       "      <th></th>\n",
       "      <th>engine_displacement</th>\n",
       "      <th>num_cylinders</th>\n",
       "      <th>horsepower</th>\n",
       "      <th>vehicle_weight</th>\n",
       "      <th>acceleration</th>\n",
       "      <th>model_year</th>\n",
       "      <th>origin</th>\n",
       "      <th>fuel_type</th>\n",
       "      <th>drivetrain</th>\n",
       "      <th>num_doors</th>\n",
       "      <th>fuel_efficiency_mpg</th>\n",
       "    </tr>\n",
       "  </thead>\n",
       "  <tbody>\n",
       "    <tr>\n",
       "      <th>0</th>\n",
       "      <td>170</td>\n",
       "      <td>3.0</td>\n",
       "      <td>159.0</td>\n",
       "      <td>3413.433759</td>\n",
       "      <td>17.7</td>\n",
       "      <td>2003</td>\n",
       "      <td>Europe</td>\n",
       "      <td>Gasoline</td>\n",
       "      <td>All-wheel drive</td>\n",
       "      <td>0.0</td>\n",
       "      <td>13.231729</td>\n",
       "    </tr>\n",
       "    <tr>\n",
       "      <th>1</th>\n",
       "      <td>130</td>\n",
       "      <td>5.0</td>\n",
       "      <td>97.0</td>\n",
       "      <td>3149.664934</td>\n",
       "      <td>17.8</td>\n",
       "      <td>2007</td>\n",
       "      <td>USA</td>\n",
       "      <td>Gasoline</td>\n",
       "      <td>Front-wheel drive</td>\n",
       "      <td>0.0</td>\n",
       "      <td>13.688217</td>\n",
       "    </tr>\n",
       "    <tr>\n",
       "      <th>2</th>\n",
       "      <td>170</td>\n",
       "      <td>NaN</td>\n",
       "      <td>78.0</td>\n",
       "      <td>3079.038997</td>\n",
       "      <td>15.1</td>\n",
       "      <td>2018</td>\n",
       "      <td>Europe</td>\n",
       "      <td>Gasoline</td>\n",
       "      <td>Front-wheel drive</td>\n",
       "      <td>0.0</td>\n",
       "      <td>14.246341</td>\n",
       "    </tr>\n",
       "    <tr>\n",
       "      <th>3</th>\n",
       "      <td>220</td>\n",
       "      <td>4.0</td>\n",
       "      <td>NaN</td>\n",
       "      <td>2542.392402</td>\n",
       "      <td>20.2</td>\n",
       "      <td>2009</td>\n",
       "      <td>USA</td>\n",
       "      <td>Diesel</td>\n",
       "      <td>All-wheel drive</td>\n",
       "      <td>2.0</td>\n",
       "      <td>16.912736</td>\n",
       "    </tr>\n",
       "    <tr>\n",
       "      <th>4</th>\n",
       "      <td>210</td>\n",
       "      <td>1.0</td>\n",
       "      <td>140.0</td>\n",
       "      <td>3460.870990</td>\n",
       "      <td>14.4</td>\n",
       "      <td>2009</td>\n",
       "      <td>Europe</td>\n",
       "      <td>Gasoline</td>\n",
       "      <td>All-wheel drive</td>\n",
       "      <td>2.0</td>\n",
       "      <td>12.488369</td>\n",
       "    </tr>\n",
       "  </tbody>\n",
       "</table>\n",
       "</div>"
      ],
      "text/plain": [
       "   engine_displacement  num_cylinders  horsepower  vehicle_weight  \\\n",
       "0                  170            3.0       159.0     3413.433759   \n",
       "1                  130            5.0        97.0     3149.664934   \n",
       "2                  170            NaN        78.0     3079.038997   \n",
       "3                  220            4.0         NaN     2542.392402   \n",
       "4                  210            1.0       140.0     3460.870990   \n",
       "\n",
       "   acceleration  model_year  origin fuel_type         drivetrain  num_doors  \\\n",
       "0          17.7        2003  Europe  Gasoline    All-wheel drive        0.0   \n",
       "1          17.8        2007     USA  Gasoline  Front-wheel drive        0.0   \n",
       "2          15.1        2018  Europe  Gasoline  Front-wheel drive        0.0   \n",
       "3          20.2        2009     USA    Diesel    All-wheel drive        2.0   \n",
       "4          14.4        2009  Europe  Gasoline    All-wheel drive        2.0   \n",
       "\n",
       "   fuel_efficiency_mpg  \n",
       "0            13.231729  \n",
       "1            13.688217  \n",
       "2            14.246341  \n",
       "3            16.912736  \n",
       "4            12.488369  "
      ]
     },
     "execution_count": 1,
     "metadata": {},
     "output_type": "execute_result"
    }
   ],
   "source": [
    "\n",
    "import os\n",
    "import io\n",
    "import sys\n",
    "import math\n",
    "import json\n",
    "import numpy as np\n",
    "import pandas as pd\n",
    "from urllib.request import urlopen\n",
    "\n",
    "pd.set_option('display.max_colwidth', 120)\n",
    "\n",
    "URL = 'https://raw.githubusercontent.com/alexeygrigorev/datasets/master/car_fuel_efficiency.csv'\n",
    "CSV_LOCAL = 'car_fuel_efficiency.csv'\n",
    "\n",
    "def load_data():\n",
    "    # Try URL first\n",
    "    try:\n",
    "        df = pd.read_csv(URL)\n",
    "        print('Loaded dataset from URL. Shape:', df.shape)\n",
    "        return df\n",
    "    except Exception as e_url:\n",
    "        print('URL load failed:', e_url)\n",
    "        if os.path.exists(CSV_LOCAL):\n",
    "            df = pd.read_csv(CSV_LOCAL)\n",
    "            print('Loaded dataset from local file. Shape:', df.shape)\n",
    "            return df\n",
    "        else:\n",
    "            raise RuntimeError('Dataset not found. Provide car_fuel_efficiency.csv or enable internet.')\n",
    "\n",
    "df_raw = load_data()\n",
    "df_raw.head()\n"
   ]
  },
  {
   "cell_type": "markdown",
   "id": "95a9c1c6",
   "metadata": {},
   "source": [
    "\n",
    "## Select Required Columns\n",
    "\n",
    "We keep only:\n",
    "\n",
    "- `engine_displacement`  \n",
    "- `horsepower`  \n",
    "- `vehicle_weight`  \n",
    "- `model_year`  \n",
    "- `fuel_efficiency_mpg` (target)\n"
   ]
  },
  {
   "cell_type": "code",
   "execution_count": 2,
   "id": "da39f2c6",
   "metadata": {},
   "outputs": [
    {
     "data": {
      "text/html": [
       "<div>\n",
       "<style scoped>\n",
       "    .dataframe tbody tr th:only-of-type {\n",
       "        vertical-align: middle;\n",
       "    }\n",
       "\n",
       "    .dataframe tbody tr th {\n",
       "        vertical-align: top;\n",
       "    }\n",
       "\n",
       "    .dataframe thead th {\n",
       "        text-align: right;\n",
       "    }\n",
       "</style>\n",
       "<table border=\"1\" class=\"dataframe\">\n",
       "  <thead>\n",
       "    <tr style=\"text-align: right;\">\n",
       "      <th></th>\n",
       "      <th>engine_displacement</th>\n",
       "      <th>horsepower</th>\n",
       "      <th>vehicle_weight</th>\n",
       "      <th>model_year</th>\n",
       "      <th>fuel_efficiency_mpg</th>\n",
       "    </tr>\n",
       "  </thead>\n",
       "  <tbody>\n",
       "    <tr>\n",
       "      <th>count</th>\n",
       "      <td>9704.000000</td>\n",
       "      <td>8996.000000</td>\n",
       "      <td>9704.000000</td>\n",
       "      <td>9704.000000</td>\n",
       "      <td>9704.000000</td>\n",
       "    </tr>\n",
       "    <tr>\n",
       "      <th>mean</th>\n",
       "      <td>199.708368</td>\n",
       "      <td>149.657292</td>\n",
       "      <td>3001.280993</td>\n",
       "      <td>2011.484027</td>\n",
       "      <td>14.985243</td>\n",
       "    </tr>\n",
       "    <tr>\n",
       "      <th>std</th>\n",
       "      <td>49.455319</td>\n",
       "      <td>29.879555</td>\n",
       "      <td>497.894860</td>\n",
       "      <td>6.659808</td>\n",
       "      <td>2.556468</td>\n",
       "    </tr>\n",
       "    <tr>\n",
       "      <th>min</th>\n",
       "      <td>10.000000</td>\n",
       "      <td>37.000000</td>\n",
       "      <td>952.681761</td>\n",
       "      <td>2000.000000</td>\n",
       "      <td>6.200971</td>\n",
       "    </tr>\n",
       "    <tr>\n",
       "      <th>25%</th>\n",
       "      <td>170.000000</td>\n",
       "      <td>130.000000</td>\n",
       "      <td>2666.248985</td>\n",
       "      <td>2006.000000</td>\n",
       "      <td>13.267459</td>\n",
       "    </tr>\n",
       "    <tr>\n",
       "      <th>50%</th>\n",
       "      <td>200.000000</td>\n",
       "      <td>149.000000</td>\n",
       "      <td>2993.226296</td>\n",
       "      <td>2012.000000</td>\n",
       "      <td>15.006037</td>\n",
       "    </tr>\n",
       "    <tr>\n",
       "      <th>75%</th>\n",
       "      <td>230.000000</td>\n",
       "      <td>170.000000</td>\n",
       "      <td>3334.957039</td>\n",
       "      <td>2017.000000</td>\n",
       "      <td>16.707965</td>\n",
       "    </tr>\n",
       "    <tr>\n",
       "      <th>max</th>\n",
       "      <td>380.000000</td>\n",
       "      <td>271.000000</td>\n",
       "      <td>4739.077089</td>\n",
       "      <td>2023.000000</td>\n",
       "      <td>25.967222</td>\n",
       "    </tr>\n",
       "  </tbody>\n",
       "</table>\n",
       "</div>"
      ],
      "text/plain": [
       "       engine_displacement   horsepower  vehicle_weight   model_year  \\\n",
       "count          9704.000000  8996.000000     9704.000000  9704.000000   \n",
       "mean            199.708368   149.657292     3001.280993  2011.484027   \n",
       "std              49.455319    29.879555      497.894860     6.659808   \n",
       "min              10.000000    37.000000      952.681761  2000.000000   \n",
       "25%             170.000000   130.000000     2666.248985  2006.000000   \n",
       "50%             200.000000   149.000000     2993.226296  2012.000000   \n",
       "75%             230.000000   170.000000     3334.957039  2017.000000   \n",
       "max             380.000000   271.000000     4739.077089  2023.000000   \n",
       "\n",
       "       fuel_efficiency_mpg  \n",
       "count          9704.000000  \n",
       "mean             14.985243  \n",
       "std               2.556468  \n",
       "min               6.200971  \n",
       "25%              13.267459  \n",
       "50%              15.006037  \n",
       "75%              16.707965  \n",
       "max              25.967222  "
      ]
     },
     "execution_count": 2,
     "metadata": {},
     "output_type": "execute_result"
    }
   ],
   "source": [
    "\n",
    "use_cols = ['engine_displacement','horsepower','vehicle_weight','model_year','fuel_efficiency_mpg']\n",
    "df = df_raw[use_cols].copy()\n",
    "df.describe(include='all')\n"
   ]
  },
  {
   "cell_type": "markdown",
   "id": "c5dc0965",
   "metadata": {},
   "source": [
    "\n",
    "## EDA: Target Tail Check\n",
    "\n",
    "We visually/quantitatively check if `fuel_efficiency_mpg` has a long tail.\n",
    "We'll show basic stats and a quick quantile view.\n"
   ]
  },
  {
   "cell_type": "code",
   "execution_count": 3,
   "id": "eb8791a3",
   "metadata": {},
   "outputs": [
    {
     "name": "stdout",
     "output_type": "stream",
     "text": [
      "count    9704.000000\n",
      "mean       14.985243\n",
      "std         2.556468\n",
      "min         6.200971\n",
      "25%        13.267459\n",
      "50%        15.006037\n",
      "75%        16.707965\n",
      "max        25.967222\n",
      "Name: fuel_efficiency_mpg, dtype: float64\n",
      "\n",
      "Quantiles:\n",
      "0.50    15.006037\n",
      "0.75    16.707965\n",
      "0.90    18.259461\n",
      "0.95    19.150022\n",
      "0.99    20.882064\n",
      "Name: fuel_efficiency_mpg, dtype: float64\n"
     ]
    }
   ],
   "source": [
    "\n",
    "target = 'fuel_efficiency_mpg'\n",
    "print(df[target].describe())\n",
    "print('\\nQuantiles:')\n",
    "print(df[target].quantile([0.5, 0.75, 0.9, 0.95, 0.99]))\n"
   ]
  },
  {
   "cell_type": "markdown",
   "id": "29d25393",
   "metadata": {},
   "source": [
    "\n",
    "## Question 1 — Missing Values\n",
    "\n",
    "Which column has missing values?\n"
   ]
  },
  {
   "cell_type": "code",
   "execution_count": 4,
   "id": "b51f695b",
   "metadata": {},
   "outputs": [
    {
     "data": {
      "text/html": [
       "<div>\n",
       "<style scoped>\n",
       "    .dataframe tbody tr th:only-of-type {\n",
       "        vertical-align: middle;\n",
       "    }\n",
       "\n",
       "    .dataframe tbody tr th {\n",
       "        vertical-align: top;\n",
       "    }\n",
       "\n",
       "    .dataframe thead th {\n",
       "        text-align: right;\n",
       "    }\n",
       "</style>\n",
       "<table border=\"1\" class=\"dataframe\">\n",
       "  <thead>\n",
       "    <tr style=\"text-align: right;\">\n",
       "      <th></th>\n",
       "      <th>na_count</th>\n",
       "    </tr>\n",
       "  </thead>\n",
       "  <tbody>\n",
       "    <tr>\n",
       "      <th>horsepower</th>\n",
       "      <td>708</td>\n",
       "    </tr>\n",
       "    <tr>\n",
       "      <th>engine_displacement</th>\n",
       "      <td>0</td>\n",
       "    </tr>\n",
       "    <tr>\n",
       "      <th>vehicle_weight</th>\n",
       "      <td>0</td>\n",
       "    </tr>\n",
       "    <tr>\n",
       "      <th>model_year</th>\n",
       "      <td>0</td>\n",
       "    </tr>\n",
       "    <tr>\n",
       "      <th>fuel_efficiency_mpg</th>\n",
       "      <td>0</td>\n",
       "    </tr>\n",
       "  </tbody>\n",
       "</table>\n",
       "</div>"
      ],
      "text/plain": [
       "                     na_count\n",
       "horsepower                708\n",
       "engine_displacement         0\n",
       "vehicle_weight              0\n",
       "model_year                  0\n",
       "fuel_efficiency_mpg         0"
      ]
     },
     "metadata": {},
     "output_type": "display_data"
    },
    {
     "name": "stdout",
     "output_type": "stream",
     "text": [
      "Q1 column with missing values → horsepower\n"
     ]
    }
   ],
   "source": [
    "\n",
    "na_counts = df.isna().sum().sort_values(ascending=False)\n",
    "display(na_counts.to_frame('na_count'))\n",
    "q1_answer = na_counts.index[0] if na_counts.iloc[0] > 0 else 'None'\n",
    "print('Q1 column with missing values →', q1_answer)\n"
   ]
  },
  {
   "cell_type": "markdown",
   "id": "eb9b3b71",
   "metadata": {},
   "source": [
    "\n",
    "## Question 2 — Median of `horsepower`\n"
   ]
  },
  {
   "cell_type": "code",
   "execution_count": 5,
   "id": "3f86a88a",
   "metadata": {},
   "outputs": [
    {
     "name": "stdout",
     "output_type": "stream",
     "text": [
      "Median horsepower = 149.0\n",
      "Closest option: 149.0\n"
     ]
    }
   ],
   "source": [
    "\n",
    "hp_median = float(df['horsepower'].median())\n",
    "print('Median horsepower =', hp_median)\n",
    "# For the multiple choice, we print the *closest* of [49, 99, 149, 199]\n",
    "options = np.array([49, 99, 149, 199], dtype=float)\n",
    "closest = options[np.argmin(np.abs(options - hp_median))]\n",
    "print('Closest option:', closest)\n"
   ]
  },
  {
   "cell_type": "markdown",
   "id": "27258cc5",
   "metadata": {},
   "source": [
    "\n",
    "## Prepare & Split (as in lectures)\n",
    "\n",
    "- Shuffle with seed=42 (unless specified otherwise)\n",
    "- 60% train, 20% validation, 20% test\n"
   ]
  },
  {
   "cell_type": "code",
   "execution_count": 6,
   "id": "d1318679",
   "metadata": {},
   "outputs": [
    {
     "data": {
      "text/plain": [
       "(5822, 1940, 1942)"
      ]
     },
     "execution_count": 6,
     "metadata": {},
     "output_type": "execute_result"
    }
   ],
   "source": [
    "\n",
    "def shuffle_split(df_in, seed=42):\n",
    "    n = len(df_in)\n",
    "    idx = np.arange(n)\n",
    "    rng = np.random.default_rng(seed)\n",
    "    rng.shuffle(idx)\n",
    "\n",
    "    n_train = int(0.6 * n)\n",
    "    n_val   = int(0.2 * n)\n",
    "    n_test  = n - n_train - n_val\n",
    "\n",
    "    df_shuf = df_in.iloc[idx].reset_index(drop=True)\n",
    "    df_train = df_shuf.iloc[:n_train].reset_index(drop=True)\n",
    "    df_val   = df_shuf.iloc[n_train:n_train+n_val].reset_index(drop=True)\n",
    "    df_test  = df_shuf.iloc[n_train+n_val:].reset_index(drop=True)\n",
    "    return df_train, df_val, df_test\n",
    "\n",
    "df_train, df_val, df_test = shuffle_split(df, seed=42)\n",
    "len(df_train), len(df_val), len(df_test)\n"
   ]
  },
  {
   "cell_type": "markdown",
   "id": "1726a06f",
   "metadata": {},
   "source": [
    "\n",
    "## Linear Regression Helpers (as in lectures)\n",
    "\n",
    "- `prepare_X`: turn dataframe → design matrix with bias term  \n",
    "- `train_linear_regression`: closed-form solution with optional L2 (ridge) regularization  \n",
    "- `predict` and `rmse`\n"
   ]
  },
  {
   "cell_type": "code",
   "execution_count": 7,
   "id": "c9e4dc57",
   "metadata": {},
   "outputs": [],
   "source": [
    "\n",
    "features = ['engine_displacement','horsepower','vehicle_weight','model_year']\n",
    "target = 'fuel_efficiency_mpg'\n",
    "\n",
    "def prepare_X(df_in):\n",
    "    X = df_in[features].values.astype(float)\n",
    "    ones = np.ones((X.shape[0], 1))\n",
    "    return np.hstack([ones, X])  # bias in first column\n",
    "\n",
    "def train_linear_regression(X, y, r=0.0):\n",
    "    # Closed-form: w = (X^T X + r*I)^{-1} X^T y\n",
    "    XTX = X.T.dot(X)\n",
    "    if r > 0:\n",
    "        reg = r * np.eye(XTX.shape[0])\n",
    "        reg[0,0] = 0  # don't regularize bias\n",
    "        XTX = XTX + reg\n",
    "    XTX_inv = np.linalg.inv(XTX)\n",
    "    w = XTX_inv.dot(X.T).dot(y)\n",
    "    return w\n",
    "\n",
    "def predict(X, w):\n",
    "    return X.dot(w)\n",
    "\n",
    "def rmse(y, y_pred):\n",
    "    return math.sqrt(np.mean((y - y_pred) ** 2))\n"
   ]
  },
  {
   "cell_type": "markdown",
   "id": "6cd74c53",
   "metadata": {},
   "source": [
    "\n",
    "## Question 3 — Missing Value Strategy (0 vs mean)\n",
    "\n",
    "- Identify column from Q1 (compute mean **on train only**)\n",
    "- Create two train/val pipelines:\n",
    "  - Fill with 0\n",
    "  - Fill with training mean\n",
    "- Train unregularized models (`r=0`), compute validation RMSE, round to 2 decimals, and compare.\n"
   ]
  },
  {
   "cell_type": "code",
   "execution_count": 8,
   "id": "6e0084e2",
   "metadata": {},
   "outputs": [
    {
     "name": "stdout",
     "output_type": "stream",
     "text": [
      "RMSE with 0   : 0.52\n",
      "RMSE with mean: 0.47\n",
      "Q3 → With mean\n"
     ]
    }
   ],
   "source": [
    "\n",
    "col_with_na = df_train.isna().sum().sort_values(ascending=False).index[0]\n",
    "\n",
    "# Prepare train/val copies\n",
    "train0 = df_train.copy()\n",
    "val0 = df_val.copy()\n",
    "\n",
    "train_mean = df_train[col_with_na].mean()\n",
    "train_mean_filled = df_train.copy()\n",
    "val_mean_filled = df_val.copy()\n",
    "\n",
    "# Fill options\n",
    "train0[col_with_na] = train0[col_with_na].fillna(0)\n",
    "val0[col_with_na]   = val0[col_with_na].fillna(0)\n",
    "\n",
    "train_mean_filled[col_with_na] = train_mean_filled[col_with_na].fillna(train_mean)\n",
    "val_mean_filled[col_with_na]   = val_mean_filled[col_with_na].fillna(train_mean)\n",
    "\n",
    "# Targets\n",
    "y_train0 = train0[target].values\n",
    "y_val0   = val0[target].values\n",
    "\n",
    "y_train_mean = train_mean_filled[target].values\n",
    "y_val_mean   = val_mean_filled[target].values\n",
    "\n",
    "# Design matrices\n",
    "X_train0 = prepare_X(train0)\n",
    "X_val0   = prepare_X(val0)\n",
    "\n",
    "X_train_mean = prepare_X(train_mean_filled)\n",
    "X_val_mean   = prepare_X(val_mean_filled)\n",
    "\n",
    "# Train (no regularization)\n",
    "w0 = train_linear_regression(X_train0, y_train0, r=0.0)\n",
    "w_mean = train_linear_regression(X_train_mean, y_train_mean, r=0.0)\n",
    "\n",
    "# Predict & RMSE\n",
    "rmse0 = rmse(y_val0, predict(X_val0, w0))\n",
    "rmse_mean = rmse(y_val_mean, predict(X_val_mean, w_mean))\n",
    "\n",
    "print('RMSE with 0   :', round(rmse0, 2))\n",
    "print('RMSE with mean:', round(rmse_mean, 2))\n",
    "\n",
    "q3_choice = 'With 0' if round(rmse0,2) < round(rmse_mean,2) else ('With mean' if round(rmse_mean,2) < round(rmse0,2) else 'Both are equally good')\n",
    "print('Q3 →', q3_choice)\n"
   ]
  },
  {
   "cell_type": "markdown",
   "id": "f76cedc4",
   "metadata": {},
   "source": [
    "\n",
    "## Question 4 — Regularized Linear Regression (fill NAs with 0)\n",
    "\n",
    "- Try `r ∈ [0, 0.01, 0.1, 1, 5, 10, 100]`\n",
    "- Use validation RMSE (rounded to 2 decimals)\n",
    "- Pick the smallest `r` that yields the best RMSE\n"
   ]
  },
  {
   "cell_type": "code",
   "execution_count": 9,
   "id": "9d42f527",
   "metadata": {},
   "outputs": [
    {
     "name": "stdout",
     "output_type": "stream",
     "text": [
      "Validation RMSE by r:\n",
      "r=0      RMSE=0.52\n",
      "r=0.01   RMSE=0.52\n",
      "r=0.1    RMSE=0.52\n",
      "r=1      RMSE=0.52\n",
      "r=5      RMSE=0.52\n",
      "r=10     RMSE=0.52\n",
      "r=100    RMSE=0.52\n",
      "\n",
      "Q4 → best r = 0 (RMSE = 0.52 )\n"
     ]
    }
   ],
   "source": [
    "\n",
    "# Make fresh copies so we don't leak data from Q3\n",
    "train = df_train.copy()\n",
    "val = df_val.copy()\n",
    "\n",
    "# Fill NAs with 0 in ALL features (safe approach)\n",
    "for c in features:\n",
    "    if train[c].isna().any() or val[c].isna().any():\n",
    "        train[c] = train[c].fillna(0)\n",
    "        val[c] = val[c].fillna(0)\n",
    "\n",
    "Xtr = prepare_X(train); ytr = train[target].values\n",
    "Xva = prepare_X(val);   yva = val[target].values\n",
    "\n",
    "rs = [0, 0.01, 0.1, 1, 5, 10, 100]\n",
    "scores = []\n",
    "for r in rs:\n",
    "    w = train_linear_regression(Xtr, ytr, r=r)\n",
    "    y_pred = predict(Xva, w)\n",
    "    s = round(rmse(yva, y_pred), 2)\n",
    "    scores.append((r, s))\n",
    "\n",
    "print('Validation RMSE by r:')\n",
    "for r, s in scores:\n",
    "    print(f'r={r:<6} RMSE={s}')\n",
    "\n",
    "best_rmse = min(s for _, s in scores)\n",
    "candidate_rs = [r for r, s in scores if s == best_rmse]\n",
    "best_r = min(candidate_rs)  # smallest r with best score\n",
    "print('\\nQ4 → best r =', best_r, '(RMSE =', best_rmse, ')')\n"
   ]
  },
  {
   "cell_type": "markdown",
   "id": "a86e689c",
   "metadata": {},
   "source": [
    "\n",
    "## Question 5 — Seed Sensitivity (std of validation RMSE across seeds 0–9)\n",
    "\n",
    "- For each seed:\n",
    "  - Split 60/20/20\n",
    "  - Fill NAs with 0\n",
    "  - Train **unregularized** model (`r=0`)\n",
    "  - Compute **validation RMSE**\n",
    "- Compute `np.std` of the 10 scores, round to **3** decimals.\n"
   ]
  },
  {
   "cell_type": "code",
   "execution_count": 10,
   "id": "de3717d9",
   "metadata": {},
   "outputs": [
    {
     "name": "stdout",
     "output_type": "stream",
     "text": [
      "Validation RMSE scores by seed 0–9: [0.521, 0.5244, 0.5252, 0.5244, 0.5259, 0.5252, 0.5204, 0.5104, 0.5204, 0.5323]\n",
      "STD = 0.005\n",
      "Closest option: 0.006\n"
     ]
    }
   ],
   "source": [
    "\n",
    "def val_rmse_for_seed(seed):\n",
    "    dtr, dval, dte = shuffle_split(df, seed=seed)\n",
    "    # Fill NAs with 0 for safety\n",
    "    for c in features:\n",
    "        dtr[c] = dtr[c].fillna(0)\n",
    "        dval[c] = dval[c].fillna(0)\n",
    "\n",
    "    Xtr = prepare_X(dtr); ytr = dtr[target].values\n",
    "    Xva = prepare_X(dval); yva = dval[target].values\n",
    "    w = train_linear_regression(Xtr, ytr, r=0.0)\n",
    "    return rmse(yva, predict(Xva, w))\n",
    "\n",
    "seeds = list(range(10))\n",
    "scores = [val_rmse_for_seed(s) for s in seeds]\n",
    "std_scores = float(np.std(scores))\n",
    "print('Validation RMSE scores by seed 0–9:', [round(s, 4) for s in scores])\n",
    "print('STD =', round(std_scores, 3))\n",
    "\n",
    "# Multiple-choice helper\n",
    "options = np.array([0.001, 0.006, 0.060, 0.600], dtype=float)\n",
    "closest = options[np.argmin(np.abs(options - round(std_scores, 3)))]\n",
    "print('Closest option:', closest)\n"
   ]
  },
  {
   "cell_type": "markdown",
   "id": "3e131278",
   "metadata": {},
   "source": [
    "\n",
    "## Question 6 — Final Model\n",
    "\n",
    "- Split with **seed=9**\n",
    "- Combine **train + validation**\n",
    "- Fill NAs with 0\n",
    "- Train with **r=0.001**\n",
    "- Report **test RMSE** (rounded)\n"
   ]
  },
  {
   "cell_type": "code",
   "execution_count": 11,
   "id": "17b0f1ec",
   "metadata": {},
   "outputs": [
    {
     "name": "stdout",
     "output_type": "stream",
     "text": [
      "Final Test RMSE (seed=9, r=0.001): 0.505\n",
      "Closest option: 0.515\n"
     ]
    }
   ],
   "source": [
    "\n",
    "dtr, dval, dte = shuffle_split(df, seed=9)\n",
    "df_full = pd.concat([dtr, dval], axis=0).reset_index(drop=True)\n",
    "\n",
    "for c in features:\n",
    "    df_full[c] = df_full[c].fillna(0)\n",
    "    dte[c]     = dte[c].fillna(0)\n",
    "\n",
    "X_full = prepare_X(df_full); y_full = df_full[target].values\n",
    "X_test = prepare_X(dte);     y_test = dte[target].values\n",
    "\n",
    "w_final = train_linear_regression(X_full, y_full, r=0.001)\n",
    "test_rmse = rmse(y_test, predict(X_test, w_final))\n",
    "print('Final Test RMSE (seed=9, r=0.001):', round(test_rmse, 3))\n",
    "\n",
    "# Multiple-choice helper\n",
    "options = np.array([0.15, 0.515, 5.15, 51.5], dtype=float)\n",
    "closest = options[np.argmin(np.abs(options - round(test_rmse, 3)))]\n",
    "print('Closest option:', closest)\n"
   ]
  },
  {
   "cell_type": "markdown",
   "id": "b15a9004",
   "metadata": {},
   "source": [
    "\n",
    "## Handy Answer Boxes (Will Fill After Running)\n",
    "\n",
    "- **Q1:** Column with missing values → *(printed above in Q1 section)*  \n",
    "- **Q2:** Median horsepower → *(printed above; also closest option)*  \n",
    "- **Q3:** Better imputation for NA (0 vs mean) → *(printed above)*  \n",
    "- **Q4:** Best `r` (smallest if tie) → *(printed above)*  \n",
    "- **Q5:** Std of validation RMSE across seeds 0–9 → *(printed above; also closest option)*  \n",
    "- **Q6:** Test RMSE for seed=9, r=0.001 → *(printed above; also closest option)*\n"
   ]
  }
 ],
 "metadata": {
  "kernelspec": {
   "display_name": "Python 3 (ipykernel)",
   "language": "python",
   "name": "python3"
  },
  "language_info": {
   "codemirror_mode": {
    "name": "ipython",
    "version": 3
   },
   "file_extension": ".py",
   "mimetype": "text/x-python",
   "name": "python",
   "nbconvert_exporter": "python",
   "pygments_lexer": "ipython3",
   "version": "3.12.1"
  }
 },
 "nbformat": 4,
 "nbformat_minor": 5
}
