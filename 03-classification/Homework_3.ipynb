{
 "cells": [
  {
   "cell_type": "markdown",
   "id": "15e3c64e",
   "metadata": {},
   "source": [
    "\n",
    "# ML Zoomcamp — Homework 03 (Lead Scoring)\n",
    "\n",
    "This notebook solves Q1–Q6 for the **Bank Marketing / Lead Scoring** dataset.\n",
    "\n",
    "Dataset: `course_lead_scoring.csv`  \n",
    "Target: **`converted`** (has the client signed up or not)\n",
    "\n",
    "**What we do:**  \n",
    "- Load and inspect data  \n",
    "- Required imputations (categorical → `'NA'`, numerical → `0.0`)  \n",
    "- Q1: Mode of `industry`  \n",
    "- Q2: Correlation (between specific pairs)  \n",
    "- Train/Val/Test split (60/20/20)  \n",
    "- Q3: Mutual information (categoricals vs target)  \n",
    "- Q4: Logistic Regression (with One-Hot) + validation accuracy  \n",
    "- Q5: Simple feature elimination by dropping one feature at a time  \n",
    "- Q6: Regularized Logistic Regression sweep on `C`\n"
   ]
  },
  {
   "cell_type": "markdown",
   "id": "d94b3007",
   "metadata": {},
   "source": [
    "## Setup"
   ]
  },
  {
   "cell_type": "code",
   "execution_count": 1,
   "id": "a6ed6085",
   "metadata": {},
   "outputs": [],
   "source": [
    "\n",
    "import pandas as pd\n",
    "import numpy as np\n",
    "\n",
    "from sklearn.model_selection import train_test_split\n",
    "from sklearn.preprocessing import OneHotEncoder\n",
    "from sklearn.compose import ColumnTransformer\n",
    "from sklearn.pipeline import Pipeline\n",
    "from sklearn.linear_model import LogisticRegression\n",
    "from sklearn.metrics import accuracy_score\n",
    "from sklearn.metrics import mutual_info_score\n",
    "\n",
    "import matplotlib.pyplot as plt\n",
    "\n",
    "pd.set_option('display.max_columns', None)\n",
    "RANDOM_STATE = 42\n"
   ]
  },
  {
   "cell_type": "markdown",
   "id": "0d93fbf8",
   "metadata": {},
   "source": [
    "## 1. Load data"
   ]
  },
  {
   "cell_type": "code",
   "execution_count": 2,
   "id": "9ebb6d21",
   "metadata": {},
   "outputs": [
    {
     "name": "stdout",
     "output_type": "stream",
     "text": [
      "(1462, 9)\n"
     ]
    },
    {
     "data": {
      "text/html": [
       "<div>\n",
       "<style scoped>\n",
       "    .dataframe tbody tr th:only-of-type {\n",
       "        vertical-align: middle;\n",
       "    }\n",
       "\n",
       "    .dataframe tbody tr th {\n",
       "        vertical-align: top;\n",
       "    }\n",
       "\n",
       "    .dataframe thead th {\n",
       "        text-align: right;\n",
       "    }\n",
       "</style>\n",
       "<table border=\"1\" class=\"dataframe\">\n",
       "  <thead>\n",
       "    <tr style=\"text-align: right;\">\n",
       "      <th></th>\n",
       "      <th>lead_source</th>\n",
       "      <th>industry</th>\n",
       "      <th>number_of_courses_viewed</th>\n",
       "      <th>annual_income</th>\n",
       "      <th>employment_status</th>\n",
       "      <th>location</th>\n",
       "      <th>interaction_count</th>\n",
       "      <th>lead_score</th>\n",
       "      <th>converted</th>\n",
       "    </tr>\n",
       "  </thead>\n",
       "  <tbody>\n",
       "    <tr>\n",
       "      <th>0</th>\n",
       "      <td>paid_ads</td>\n",
       "      <td>NaN</td>\n",
       "      <td>1</td>\n",
       "      <td>79450.0</td>\n",
       "      <td>unemployed</td>\n",
       "      <td>south_america</td>\n",
       "      <td>4</td>\n",
       "      <td>0.94</td>\n",
       "      <td>1</td>\n",
       "    </tr>\n",
       "    <tr>\n",
       "      <th>1</th>\n",
       "      <td>social_media</td>\n",
       "      <td>retail</td>\n",
       "      <td>1</td>\n",
       "      <td>46992.0</td>\n",
       "      <td>employed</td>\n",
       "      <td>south_america</td>\n",
       "      <td>1</td>\n",
       "      <td>0.80</td>\n",
       "      <td>0</td>\n",
       "    </tr>\n",
       "    <tr>\n",
       "      <th>2</th>\n",
       "      <td>events</td>\n",
       "      <td>healthcare</td>\n",
       "      <td>5</td>\n",
       "      <td>78796.0</td>\n",
       "      <td>unemployed</td>\n",
       "      <td>australia</td>\n",
       "      <td>3</td>\n",
       "      <td>0.69</td>\n",
       "      <td>1</td>\n",
       "    </tr>\n",
       "    <tr>\n",
       "      <th>3</th>\n",
       "      <td>paid_ads</td>\n",
       "      <td>retail</td>\n",
       "      <td>2</td>\n",
       "      <td>83843.0</td>\n",
       "      <td>NaN</td>\n",
       "      <td>australia</td>\n",
       "      <td>1</td>\n",
       "      <td>0.87</td>\n",
       "      <td>0</td>\n",
       "    </tr>\n",
       "    <tr>\n",
       "      <th>4</th>\n",
       "      <td>referral</td>\n",
       "      <td>education</td>\n",
       "      <td>3</td>\n",
       "      <td>85012.0</td>\n",
       "      <td>self_employed</td>\n",
       "      <td>europe</td>\n",
       "      <td>3</td>\n",
       "      <td>0.62</td>\n",
       "      <td>1</td>\n",
       "    </tr>\n",
       "  </tbody>\n",
       "</table>\n",
       "</div>"
      ],
      "text/plain": [
       "    lead_source    industry  number_of_courses_viewed  annual_income  \\\n",
       "0      paid_ads         NaN                         1        79450.0   \n",
       "1  social_media      retail                         1        46992.0   \n",
       "2        events  healthcare                         5        78796.0   \n",
       "3      paid_ads      retail                         2        83843.0   \n",
       "4      referral   education                         3        85012.0   \n",
       "\n",
       "  employment_status       location  interaction_count  lead_score  converted  \n",
       "0        unemployed  south_america                  4        0.94          1  \n",
       "1          employed  south_america                  1        0.80          0  \n",
       "2        unemployed      australia                  3        0.69          1  \n",
       "3               NaN      australia                  1        0.87          0  \n",
       "4     self_employed         europe                  3        0.62          1  "
      ]
     },
     "execution_count": 2,
     "metadata": {},
     "output_type": "execute_result"
    }
   ],
   "source": [
    "\n",
    "url = \"https://raw.githubusercontent.com/alexeygrigorev/datasets/master/course_lead_scoring.csv\"\n",
    "df = pd.read_csv(url)\n",
    "print(df.shape)\n",
    "df.head()\n"
   ]
  },
  {
   "cell_type": "markdown",
   "id": "a0f3ed39",
   "metadata": {},
   "source": [
    "\n",
    "## 2. Data preparation\n",
    "\n",
    "- Fill **categorical** NAs with `'NA'`  \n",
    "- Fill **numeric** NAs with `0.0`  \n",
    "- Keep `converted` unchanged as target\n"
   ]
  },
  {
   "cell_type": "code",
   "execution_count": 3,
   "id": "eee5c8a1",
   "metadata": {},
   "outputs": [
    {
     "data": {
      "text/plain": [
       "lead_source                 0\n",
       "industry                    0\n",
       "number_of_courses_viewed    0\n",
       "annual_income               0\n",
       "employment_status           0\n",
       "location                    0\n",
       "interaction_count           0\n",
       "lead_score                  0\n",
       "converted                   0\n",
       "dtype: int64"
      ]
     },
     "execution_count": 3,
     "metadata": {},
     "output_type": "execute_result"
    }
   ],
   "source": [
    "\n",
    "target_col = \"converted\"\n",
    "\n",
    "cat_cols = df.select_dtypes(include=[\"object\"]).columns.tolist()\n",
    "num_cols = [c for c in df.select_dtypes(include=[np.number]).columns.tolist() if c != target_col]\n",
    "\n",
    "df_clean = df.copy()\n",
    "for c in cat_cols:\n",
    "    df_clean[c] = df_clean[c].fillna(\"NA\")\n",
    "for c in num_cols:\n",
    "    df_clean[c] = df_clean[c].fillna(0.0)\n",
    "\n",
    "df_clean.isna().sum()\n"
   ]
  },
  {
   "cell_type": "markdown",
   "id": "0a27d8a0",
   "metadata": {},
   "source": [
    "## Q1. Mode of `industry`"
   ]
  },
  {
   "cell_type": "code",
   "execution_count": 4,
   "id": "d0530665",
   "metadata": {},
   "outputs": [
    {
     "data": {
      "text/plain": [
       "'retail'"
      ]
     },
     "execution_count": 4,
     "metadata": {},
     "output_type": "execute_result"
    }
   ],
   "source": [
    "\n",
    "industry_mode = df_clean[\"industry\"].mode(dropna=False)[0]\n",
    "industry_mode\n"
   ]
  },
  {
   "cell_type": "markdown",
   "id": "14742719",
   "metadata": {},
   "source": [
    "\n",
    "## Q2. Correlation among selected pairs\n",
    "\n",
    "We compute Pearson correlations for the following pairs only:\n",
    "- (`interaction_count`, `lead_score`)\n",
    "- (`number_of_courses_viewed`, `lead_score`)\n",
    "- (`number_of_courses_viewed`, `interaction_count`)\n",
    "- (`annual_income`, `interaction_count`)\n"
   ]
  },
  {
   "cell_type": "code",
   "execution_count": 5,
   "id": "0f47ced7",
   "metadata": {},
   "outputs": [
    {
     "data": {
      "text/plain": [
       "{('interaction_count', 'lead_score'): np.float64(0.009888182496913131),\n",
       " ('number_of_courses_viewed', 'lead_score'): np.float64(-0.004878998354681276),\n",
       " ('number_of_courses_viewed',\n",
       "  'interaction_count'): np.float64(-0.023565222882888037),\n",
       " ('annual_income', 'interaction_count'): np.float64(0.02703647240481443)}"
      ]
     },
     "execution_count": 5,
     "metadata": {},
     "output_type": "execute_result"
    }
   ],
   "source": [
    "\n",
    "pairs = [\n",
    "    (\"interaction_count\", \"lead_score\"),\n",
    "    (\"number_of_courses_viewed\", \"lead_score\"),\n",
    "    (\"number_of_courses_viewed\", \"interaction_count\"),\n",
    "    (\"annual_income\", \"interaction_count\"),\n",
    "]\n",
    "\n",
    "corrs = {}\n",
    "for a, b in pairs:\n",
    "    corrs[(a, b)] = df_clean[[a, b]].corr().iloc[0,1]\n",
    "\n",
    "corrs\n"
   ]
  },
  {
   "cell_type": "markdown",
   "id": "72663f3c",
   "metadata": {},
   "source": [
    "### (Optional) Quick numeric correlation heatmap"
   ]
  },
  {
   "cell_type": "code",
   "execution_count": 6,
   "id": "0fa80eaf",
   "metadata": {},
   "outputs": [
    {
     "data": {
      "image/png": "[encoded data removed]",
      "text/plain": [
       "<Figure size 600x500 with 2 Axes>"
      ]
     },
     "metadata": {},
     "output_type": "display_data"
    }
   ],
   "source": [
    "\n",
    "num_df = df_clean.select_dtypes(include=[np.number])\n",
    "corr_mat = num_df.corr()\n",
    "\n",
    "plt.figure(figsize=(6,5))\n",
    "plt.imshow(corr_mat, interpolation='nearest')\n",
    "plt.title(\"Correlation Matrix (numeric)\")\n",
    "plt.xticks(range(len(num_df.columns)), num_df.columns, rotation=90)\n",
    "plt.yticks(range(len(num_df.columns)), num_df.columns)\n",
    "plt.colorbar()\n",
    "plt.tight_layout()\n",
    "plt.show()\n"
   ]
  },
  {
   "cell_type": "markdown",
   "id": "062ded5b",
   "metadata": {},
   "source": [
    "## 3. Train / Validation / Test split (60/20/20)"
   ]
  },
  {
   "cell_type": "code",
   "execution_count": 7,
   "id": "f866d132",
   "metadata": {},
   "outputs": [
    {
     "data": {
      "text/plain": [
       "(876, 293, 293)"
      ]
     },
     "execution_count": 7,
     "metadata": {},
     "output_type": "execute_result"
    }
   ],
   "source": [
    "\n",
    "# Features/target\n",
    "X = df_clean.drop(columns=[target_col])\n",
    "y = df_clean[target_col].values\n",
    "\n",
    "# 20% test, then 25% of the remaining 80% -> 20% validation, 60% train\n",
    "X_temp, X_test, y_temp, y_test = train_test_split(\n",
    "    X, y, test_size=0.20, random_state=RANDOM_STATE, stratify=y\n",
    ")\n",
    "X_train, X_val, y_train, y_val = train_test_split(\n",
    "    X_temp, y_temp, test_size=0.25, random_state=RANDOM_STATE, stratify=y_temp\n",
    ")\n",
    "\n",
    "len(X_train), len(X_val), len(X_test)\n"
   ]
  },
  {
   "cell_type": "markdown",
   "id": "edb87736",
   "metadata": {},
   "source": [
    "## Q3. Mutual Information (categoricals vs target, train only)"
   ]
  },
  {
   "cell_type": "code",
   "execution_count": 8,
   "id": "2229bfce",
   "metadata": {},
   "outputs": [
    {
     "data": {
      "text/plain": [
       "{'industry': 0.01,\n",
       " 'location': 0.0,\n",
       " 'lead_source': 0.03,\n",
       " 'employment_status': 0.01}"
      ]
     },
     "execution_count": 8,
     "metadata": {},
     "output_type": "execute_result"
    }
   ],
   "source": [
    "\n",
    "def mi_cat(x, y):\n",
    "    return mutual_info_score(x, y)\n",
    "\n",
    "cats_for_q3 = [\"industry\", \"location\", \"lead_source\", \"employment_status\"]\n",
    "mi_scores = {}\n",
    "for c in cats_for_q3:\n",
    "    mi = mi_cat(X_train[c], y_train)\n",
    "    mi_scores[c] = round(mi, 2)\n",
    "\n",
    "mi_scores\n"
   ]
  },
  {
   "cell_type": "markdown",
   "id": "da713992",
   "metadata": {},
   "source": [
    "\n",
    "## Q4. Logistic Regression (with One-Hot Encoding)\n",
    "\n",
    "- `solver='liblinear'`, `C=1.0`, `max_iter=1000`, `random_state=42`\n",
    "- Evaluate accuracy on validation set (rounded to 2 decimals)\n"
   ]
  },
  {
   "cell_type": "code",
   "execution_count": 9,
   "id": "3192d140",
   "metadata": {},
   "outputs": [
    {
     "data": {
      "text/plain": [
       "(0.7303754266211604, 0.73)"
      ]
     },
     "execution_count": 9,
     "metadata": {},
     "output_type": "execute_result"
    }
   ],
   "source": [
    "\n",
    "all_cat = X_train.select_dtypes(include=[\"object\"]).columns.tolist()\n",
    "all_num = X_train.select_dtypes(include=[np.number]).columns.tolist()\n",
    "\n",
    "pre = ColumnTransformer(\n",
    "    transformers=[\n",
    "        (\"cat\", OneHotEncoder(handle_unknown=\"ignore\", sparse_output=False), all_cat),\n",
    "        (\"num\", \"passthrough\", all_num),\n",
    "    ],\n",
    "    remainder=\"drop\",\n",
    ")\n",
    "\n",
    "model = LogisticRegression(solver='liblinear', C=1.0, max_iter=1000, random_state=RANDOM_STATE)\n",
    "\n",
    "pipe = Pipeline([\n",
    "    (\"pre\", pre),\n",
    "    (\"lr\", model),\n",
    "])\n",
    "\n",
    "pipe.fit(X_train, y_train)\n",
    "val_pred = pipe.predict(X_val)\n",
    "val_acc = accuracy_score(y_val, val_pred)\n",
    "val_acc, round(val_acc, 2)\n"
   ]
  },
  {
   "cell_type": "markdown",
   "id": "84bcf2af",
   "metadata": {},
   "source": [
    "\n",
    "## Q5. Feature Elimination (drop-one) \n",
    "\n",
    "Drop each of the following **one at a time** and measure change in validation accuracy:\n",
    "\n",
    "- `'industry'`\n",
    "- `'employment_status'`\n",
    "- `'lead_score'`\n",
    "\n",
    "Report the difference: **(base accuracy - accuracy without feature)**.\n"
   ]
  },
  {
   "cell_type": "code",
   "execution_count": 10,
   "id": "19f3be56",
   "metadata": {},
   "outputs": [
    {
     "data": {
      "text/plain": [
       "{'industry': 0.0,\n",
       " 'employment_status': -0.0034129692832765013,\n",
       " 'lead_score': 0.0}"
      ]
     },
     "execution_count": 10,
     "metadata": {},
     "output_type": "execute_result"
    }
   ],
   "source": [
    "\n",
    "base_acc = val_acc\n",
    "to_test_drop = [\"industry\", \"employment_status\", \"lead_score\"]\n",
    "diffs = {}\n",
    "\n",
    "for feat in to_test_drop:\n",
    "    X_train_drop = X_train.drop(columns=[feat])\n",
    "    X_val_drop = X_val.drop(columns=[feat])\n",
    "\n",
    "    all_cat_drop = X_train_drop.select_dtypes(include=[\"object\"]).columns.tolist()\n",
    "    all_num_drop = X_train_drop.select_dtypes(include=[np.number]).columns.tolist()\n",
    "\n",
    "    pre_drop = ColumnTransformer(\n",
    "        transformers=[\n",
    "            (\"cat\", OneHotEncoder(handle_unknown=\"ignore\", sparse_output=False), all_cat_drop),\n",
    "            (\"num\", \"passthrough\", all_num_drop),\n",
    "        ],\n",
    "        remainder=\"drop\",\n",
    "    )\n",
    "\n",
    "    pipe_drop = Pipeline([\n",
    "        (\"pre\", pre_drop),\n",
    "        (\"lr\", LogisticRegression(solver='liblinear', C=1.0, max_iter=1000, random_state=RANDOM_STATE)),\n",
    "    ])\n",
    "\n",
    "    pipe_drop.fit(X_train_drop, y_train)\n",
    "    val_pred_drop = pipe_drop.predict(X_val_drop)\n",
    "    acc_drop = accuracy_score(y_val, val_pred_drop)\n",
    "    diffs[feat] = base_acc - acc_drop\n",
    "\n",
    "diffs\n"
   ]
  },
  {
   "cell_type": "code",
   "execution_count": 11,
   "id": "d86ee63a-a0c9-48d3-9b57-ab1a6b8303bd",
   "metadata": {},
   "outputs": [
    {
     "name": "stdout",
     "output_type": "stream",
     "text": [
      "Base accuracy: 0.73038\n",
      "Drop industry             => diff = +0.000000\n",
      "Drop employment_status    => diff = -0.003413\n",
      "Drop lead_score           => diff = +0.000000\n",
      "\n",
      "Least useful feature (smallest impact): 'industry'\n"
     ]
    }
   ],
   "source": [
    "# === Q5: Feature Elimination (one-cell version) ===\n",
    "\n",
    "from sklearn.compose import ColumnTransformer\n",
    "from sklearn.preprocessing import OneHotEncoder\n",
    "from sklearn.pipeline import Pipeline\n",
    "from sklearn.linear_model import LogisticRegression\n",
    "from sklearn.metrics import accuracy_score\n",
    "\n",
    "# Base accuracy from full model (trained as in Q4)\n",
    "all_cat = X_train.select_dtypes(include=[\"object\"]).columns.tolist()\n",
    "all_num = X_train.select_dtypes(include=[\"number\"]).columns.tolist()\n",
    "\n",
    "pre = ColumnTransformer(\n",
    "    transformers=[\n",
    "        (\"cat\", OneHotEncoder(handle_unknown=\"ignore\", sparse_output=False), all_cat),\n",
    "        (\"num\", \"passthrough\", all_num),\n",
    "    ],\n",
    "    remainder=\"drop\",\n",
    ")\n",
    "\n",
    "base_model = Pipeline([\n",
    "    (\"pre\", pre),\n",
    "    (\"lr\", LogisticRegression(solver='liblinear', C=1.0, max_iter=1000, random_state=RANDOM_STATE)),\n",
    "])\n",
    "\n",
    "base_model.fit(X_train, y_train)\n",
    "val_pred = base_model.predict(X_val)\n",
    "base_acc = accuracy_score(y_val, val_pred)\n",
    "\n",
    "# Now drop each feature and measure difference\n",
    "to_test_drop = [\"industry\", \"employment_status\", \"lead_score\"]\n",
    "diffs = {}\n",
    "\n",
    "for feat in to_test_drop:\n",
    "    X_train_drop = X_train.drop(columns=[feat])\n",
    "    X_val_drop = X_val.drop(columns=[feat])\n",
    "\n",
    "    all_cat_drop = X_train_drop.select_dtypes(include=[\"object\"]).columns.tolist()\n",
    "    all_num_drop = X_train_drop.select_dtypes(include=[\"number\"]).columns.tolist()\n",
    "\n",
    "    pre_drop = ColumnTransformer(\n",
    "        transformers=[\n",
    "            (\"cat\", OneHotEncoder(handle_unknown=\"ignore\", sparse_output=False), all_cat_drop),\n",
    "            (\"num\", \"passthrough\", all_num_drop),\n",
    "        ],\n",
    "        remainder=\"drop\",\n",
    "    )\n",
    "\n",
    "    pipe_drop = Pipeline([\n",
    "        (\"pre\", pre_drop),\n",
    "        (\"lr\", LogisticRegression(solver='liblinear', C=1.0, max_iter=1000, random_state=RANDOM_STATE)),\n",
    "    ])\n",
    "\n",
    "    pipe_drop.fit(X_train_drop, y_train)\n",
    "    acc_drop = accuracy_score(y_val, pipe_drop.predict(X_val_drop))\n",
    "    diffs[feat] = base_acc - acc_drop\n",
    "\n",
    "# Print results\n",
    "print(f\"Base accuracy: {base_acc:.5f}\")\n",
    "for feat, diff in diffs.items():\n",
    "    print(f\"Drop {feat:<20} => diff = {diff:+.6f}\")\n",
    "\n",
    "least_useful = min(diffs, key=lambda k: abs(diffs[k]))\n",
    "print(f\"\\nLeast useful feature (smallest impact): '{least_useful}'\")"
   ]
  },
  {
   "cell_type": "markdown",
   "id": "76198427",
   "metadata": {},
   "source": [
    "\n",
    "## Q6. Regularized Logistic Regression — sweep over C\n",
    "\n",
    "Test `C = [0.01, 0.1, 1, 10, 100]` and report validation accuracy (rounded to 3 decimals).  \n",
    "Pick the **smallest** `C` in case of ties.\n"
   ]
  },
  {
   "cell_type": "code",
   "execution_count": 12,
   "id": "89b25bca",
   "metadata": {},
   "outputs": [
    {
     "data": {
      "text/plain": [
       "({0.01: 0.734, 0.1: 0.73, 1: 0.73, 10: 0.73, 100: 0.73}, 0.01)"
      ]
     },
     "execution_count": 12,
     "metadata": {},
     "output_type": "execute_result"
    }
   ],
   "source": [
    "\n",
    "Cs = [0.01, 0.1, 1, 10, 100]\n",
    "acc_by_C = {}\n",
    "for C in Cs:\n",
    "    pipeC = Pipeline([\n",
    "        (\"pre\", pre),\n",
    "        (\"lr\", LogisticRegression(solver='liblinear', C=C, max_iter=1000, random_state=RANDOM_STATE)),\n",
    "    ])\n",
    "    pipeC.fit(X_train, y_train)\n",
    "    predC = pipeC.predict(X_val)\n",
    "    acc_by_C[C] = round(accuracy_score(y_val, predC), 3)\n",
    "\n",
    "best_acc = max(acc_by_C.values())\n",
    "best_C = sorted([C for C,a in acc_by_C.items() if a == best_acc])[0]\n",
    "acc_by_C, best_C\n"
   ]
  },
  {
   "cell_type": "code",
   "execution_count": null,
   "id": "ac9d692a-6f76-4723-84df-c48487f27111",
   "metadata": {},
   "outputs": [],
   "source": []
  }
 ],
 "metadata": {
  "kernelspec": {
   "display_name": "Python 3 (ipykernel)",
   "language": "python",
   "name": "python3"
  },
  "language_info": {
   "codemirror_mode": {
    "name": "ipython",
    "version": 3
   },
   "file_extension": ".py",
   "mimetype": "text/x-python",
   "name": "python",
   "nbconvert_exporter": "python",
   "pygments_lexer": "ipython3",
   "version": "3.12.1"
  }
 },
 "nbformat": 4,
 "nbformat_minor": 5
}
